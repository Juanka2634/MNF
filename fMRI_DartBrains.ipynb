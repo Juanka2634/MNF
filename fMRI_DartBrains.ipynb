{
 "cells": [
  {
   "cell_type": "code",
   "execution_count": null,
   "id": "85c39886",
   "metadata": {},
   "outputs": [],
   "source": [
    "from bids import BIDSLayout, BIDSValidator\n",
    "import os"
   ]
  },
  {
   "cell_type": "code",
   "execution_count": null,
   "id": "29480771",
   "metadata": {},
   "outputs": [],
   "source": [
    "data_dir = '/opt/dora/Dora/BIDS_ELA/BIDS_ELA'\n",
    "layout = BIDSLayout(data_dir, derivatives = True)\n",
    "layout"
   ]
  },
  {
   "cell_type": "code",
   "execution_count": null,
   "id": "af3c993a",
   "metadata": {},
   "outputs": [],
   "source": [
    "layout.get(target = 'subject', return_type = 'id', scope = 'derivatives')[:10]"
   ]
  },
  {
   "cell_type": "code",
   "execution_count": null,
   "id": "535d75fc",
   "metadata": {},
   "outputs": [],
   "source": [
    "layout.get(target = 'subject', return_type = 'file', scope = 'raw', suffix = 'bold')[:10]"
   ]
  },
  {
   "cell_type": "code",
   "execution_count": null,
   "id": "656ca13a",
   "metadata": {},
   "outputs": [],
   "source": [
    "layout.to_df()[:10]"
   ]
  },
  {
   "cell_type": "code",
   "execution_count": null,
   "id": "4dcc3aba",
   "metadata": {},
   "outputs": [],
   "source": [
    "layout = BIDSLayout(data_dir, derivatives = True)"
   ]
  },
  {
   "cell_type": "code",
   "execution_count": null,
   "id": "bd045656",
   "metadata": {},
   "outputs": [],
   "source": [
    "layout.get(subject = 'C001', return_type = 'file', scope = 'raw', extension = 'nii.gz', suffix = 'T1w')[0]"
   ]
  },
  {
   "cell_type": "code",
   "execution_count": null,
   "id": "b98a0d7b",
   "metadata": {},
   "outputs": [],
   "source": [
    "import nibabel as nib\n",
    "data = nib.load(layout.get(subject = 'C001', return_type = 'file', scope = 'raw', extension = 'nii.gz', suffix = 'T1w')[0])"
   ]
  },
  {
   "cell_type": "code",
   "execution_count": null,
   "id": "4fd92451",
   "metadata": {},
   "outputs": [],
   "source": [
    "data?"
   ]
  },
  {
   "cell_type": "code",
   "execution_count": null,
   "id": "7dfedab1",
   "metadata": {},
   "outputs": [],
   "source": [
    "data.shape"
   ]
  },
  {
   "cell_type": "code",
   "execution_count": null,
   "id": "9cc13514",
   "metadata": {},
   "outputs": [],
   "source": [
    "%matplotlib inline\n",
    "import matplotlib.pyplot as plt\n",
    "plt.imshow(data.get_fdata()[:,:,150])"
   ]
  },
  {
   "cell_type": "code",
   "execution_count": null,
   "id": "5b144d32",
   "metadata": {},
   "outputs": [],
   "source": [
    "header = data.header\n",
    "print(header)"
   ]
  },
  {
   "cell_type": "code",
   "execution_count": null,
   "id": "f163fe63",
   "metadata": {},
   "outputs": [],
   "source": [
    "data.affine"
   ]
  },
  {
   "cell_type": "code",
   "execution_count": null,
   "id": "5ed481a5",
   "metadata": {},
   "outputs": [],
   "source": [
    "%matplotlib inline\n",
    "from nilearn.plotting import view_img, plot_glass_brain, plot_anat, plot_epi"
   ]
  },
  {
   "cell_type": "code",
   "execution_count": null,
   "id": "443ec6fc",
   "metadata": {},
   "outputs": [],
   "source": [
    "plot_anat(data)"
   ]
  },
  {
   "cell_type": "code",
   "execution_count": null,
   "id": "c81efaca",
   "metadata": {},
   "outputs": [],
   "source": [
    "plot_anat(data, draw_cross = False, display_mode = 'ortho')"
   ]
  },
  {
   "cell_type": "code",
   "execution_count": null,
   "id": "b0c26b96",
   "metadata": {},
   "outputs": [],
   "source": [
    "plot_anat?"
   ]
  },
  {
   "cell_type": "code",
   "execution_count": null,
   "id": "1cc5d58b",
   "metadata": {},
   "outputs": [],
   "source": [
    "view_img(data)"
   ]
  },
  {
   "cell_type": "code",
   "execution_count": null,
   "id": "0a537212",
   "metadata": {},
   "outputs": [],
   "source": [
    "from nltools.data import Brain_Data\n",
    "amygdala_mask = Brain_Data('https://neurovault.org/media/images/1290/FSL_BAmyg_thr0.nii.gz').to_nifti()\n",
    "view_img(amygdala_mask,data)\n",
    "#Superponer imagenes estadisticas verificar si son MNI"
   ]
  },
  {
   "cell_type": "code",
   "execution_count": null,
   "id": "6c4cee0a",
   "metadata": {},
   "outputs": [],
   "source": [
    "plot_glass_brain(amygdala_mask)"
   ]
  },
  {
   "cell_type": "code",
   "execution_count": null,
   "id": "792d03cb",
   "metadata": {},
   "outputs": [],
   "source": [
    "from nltools.data import Brain_Data\n",
    "from nltools.utils import get_anatomical\n",
    "\n",
    "anat = Brain_Data(get_anatomical())\n",
    "anat"
   ]
  },
  {
   "cell_type": "code",
   "execution_count": null,
   "id": "a9b9b815",
   "metadata": {},
   "outputs": [],
   "source": [
    "print(vars(anat))"
   ]
  },
  {
   "cell_type": "code",
   "execution_count": null,
   "id": "99a77ed7",
   "metadata": {},
   "outputs": [],
   "source": [
    "print(data_dir)"
   ]
  },
  {
   "cell_type": "code",
   "execution_count": null,
   "id": "39b8bacf",
   "metadata": {},
   "outputs": [],
   "source": [
    "sub = 'sub-C001'\n",
    "data = Brain_Data(os.path.join(data_dir,sub,'func',f'{sub}_task-resting_run-1_bold.nii.gz'))"
   ]
  },
  {
   "cell_type": "code",
   "execution_count": null,
   "id": "1f6aef84",
   "metadata": {},
   "outputs": [],
   "source": [
    "print(data.shape())"
   ]
  },
  {
   "cell_type": "code",
   "execution_count": null,
   "id": "f0607aff",
   "metadata": {},
   "outputs": [],
   "source": [
    "import numpy as np\n",
    "\n",
    "print(data[5].shape())\n",
    "print(data[1,6,2].shape())\n",
    "print(data[0:10].shape())\n",
    "\n",
    "index = np.zeros(len(data), dtype = bool)\n",
    "index[[1,5,9,16,20,22]] = True\n",
    "\n",
    "print(data[index].shape())"
   ]
  },
  {
   "cell_type": "code",
   "execution_count": null,
   "id": "23300bd5",
   "metadata": {},
   "outputs": [],
   "source": [
    "data.mean()"
   ]
  },
  {
   "cell_type": "code",
   "execution_count": null,
   "id": "6491798f",
   "metadata": {},
   "outputs": [],
   "source": [
    "data.std()"
   ]
  },
  {
   "cell_type": "code",
   "execution_count": null,
   "id": "81f93d5b",
   "metadata": {},
   "outputs": [],
   "source": [
    "new = data[1]+data[2]"
   ]
  },
  {
   "cell_type": "code",
   "execution_count": null,
   "id": "fbcb683e",
   "metadata": {},
   "outputs": [],
   "source": [
    "data.to_nifti()"
   ]
  },
  {
   "cell_type": "code",
   "execution_count": null,
   "id": "18c0e672",
   "metadata": {},
   "outputs": [],
   "source": [
    "data.write('Tmp_data.nii.gz')"
   ]
  },
  {
   "cell_type": "code",
   "execution_count": null,
   "id": "7a98f461",
   "metadata": {},
   "outputs": [],
   "source": [
    "plt.plot(data.mean(axis=1))"
   ]
  },
  {
   "cell_type": "code",
   "execution_count": null,
   "id": "a5dd4eda",
   "metadata": {},
   "outputs": [],
   "source": [
    "f = data.mean().plot()"
   ]
  },
  {
   "cell_type": "code",
   "execution_count": null,
   "id": "62091ac3",
   "metadata": {},
   "outputs": [],
   "source": [
    "data.mean().iplot()"
   ]
  },
  {
   "cell_type": "code",
   "execution_count": null,
   "id": "63c66a4a",
   "metadata": {},
   "outputs": [],
   "source": [
    "plot_glass_brain(data.mean().to_nifti())"
   ]
  },
  {
   "cell_type": "code",
   "execution_count": null,
   "id": "333ebf4f",
   "metadata": {},
   "outputs": [],
   "source": [
    "n_samples = 100\n",
    "\n",
    "signal = np.zeros(n_samples)\n",
    "signal[np.random.randint(0, n_samples, 5)] = 1\n",
    "\n",
    "kernel = np.zeros(10)\n",
    "kernel[2:8] = 1\n",
    "\n",
    "f,a = plt.subplots(ncols=2, figsize=(20,5))\n",
    "a[0].plot(signal, linewidth = 2)\n",
    "a[0].set_xlabel('Time', fontsize=18)\n",
    "a[0].set_ylabel('Signal Intensity', fontsize=18)\n",
    "a[0].set_title('Signal ', fontsize=18)\n",
    "a[1].plot(kernel, linewidth=2, color='red')\n",
    "a[1].set_xlabel('Time', fontsize=18)\n",
    "a[1].set_ylabel('Intensity', fontsize=18)\n",
    "a[1].set_title('Kernel ', fontsize=18)"
   ]
  },
  {
   "cell_type": "code",
   "execution_count": null,
   "id": "ec49b628",
   "metadata": {},
   "outputs": [],
   "source": [
    "shifted_kernel = np.zeros((n_samples, n_samples+len(kernel) - 1))\n",
    "for i in range(n_samples):\n",
    "    shifted_kernel[i, i:i+len(kernel)] = kernel\n",
    "\n",
    "plt.figure(figsize=(8, 8))\n",
    "plt.imshow(shifted_kernel, cmap='Reds')\n",
    "plt.xlabel('Time', fontsize=18)\n",
    "plt.ylabel('Time', fontsize=18)\n",
    "plt.title('Time Shifted Kernels', fontsize=18)"
   ]
  },
  {
   "cell_type": "code",
   "execution_count": null,
   "id": "6dd96159",
   "metadata": {},
   "outputs": [],
   "source": [
    "convolved_signal = np.dot(signal, shifted_kernel)\n",
    "\n",
    "plt.figure(figsize=(12, 5))\n",
    "plt.plot(convolved_signal, linewidth=2)\n",
    "plt.ylabel('Intensity', fontsize=18)\n",
    "plt.xlabel('Time', fontsize=18)\n",
    "plt.title('Signal convolved with boxcar kernel', fontsize=18)"
   ]
  },
  {
   "cell_type": "code",
   "execution_count": null,
   "id": "94926ab5",
   "metadata": {},
   "outputs": [],
   "source": [
    "print(f\"Signal Length: {len(signal)}\")\n",
    "print(f\"Kernel Length: {len(kernel)}\")\n",
    "print(f\"Convolved Signal Length: {len(convolved_signal)}\")"
   ]
  },
  {
   "cell_type": "code",
   "execution_count": null,
   "id": "08b51db8",
   "metadata": {},
   "outputs": [],
   "source": [
    "signal = np.zeros(n_samples)\n",
    "signal[np.random.randint(0,n_samples,5)] = np.random.randint(1,5,5)\n",
    "\n",
    "f,a = plt.subplots(nrows=2, figsize=(18,6), sharex=True)\n",
    "a[0].plot(signal, linewidth=2)\n",
    "a[0].set_ylabel('Intensity', fontsize=18)\n",
    "a[0].set_title('Timeseries of spikes with varying intensities', fontsize=18)\n",
    "a[1].plot(np.convolve(signal, kernel), linewidth=2)\n",
    "a[1].set_ylabel('Intensity', fontsize=18)\n",
    "a[1].set_title('Signal convolved with boxcar kernel', fontsize=18)\n",
    "a[1].set_xlabel('Time', fontsize=18)"
   ]
  },
  {
   "cell_type": "code",
   "execution_count": null,
   "id": "417ce789",
   "metadata": {},
   "outputs": [],
   "source": [
    "from nltools.external import glover_hrf\n",
    "\n",
    "tr = 2\n",
    "hrf = glover_hrf(tr, oversampling=20)\n",
    "plt.plot(hrf, linewidth=2, color='red')\n",
    "plt.ylabel('Intensity', fontsize=18)\n",
    "plt.xlabel('Time', fontsize=18)\n",
    "plt.title('Hemodynamic Response Function', fontsize=18)"
   ]
  },
  {
   "cell_type": "code",
   "execution_count": null,
   "id": "14619fd9",
   "metadata": {},
   "outputs": [],
   "source": [
    "hrf = glover_hrf(tr, oversampling=1)\n",
    "plt.plot(hrf, linewidth=2, color='red')\n",
    "plt.ylabel('Intensity', fontsize=18)\n",
    "plt.xlabel('Time', fontsize=18)\n",
    "plt.title('Hemodynamic Response Function', fontsize=18)"
   ]
  },
  {
   "cell_type": "code",
   "execution_count": null,
   "id": "1b2600fd",
   "metadata": {},
   "outputs": [],
   "source": [
    "signal = np.zeros(n_samples)\n",
    "signal[np.random.randint(0,n_samples,5)] = np.random.randint(1,5,5)\n",
    "\n",
    "f,a = plt.subplots(nrows=2, figsize=(18,6), sharex=True)\n",
    "a[0].plot(signal, linewidth=2)\n",
    "a[1].plot(np.convolve(signal, hrf), linewidth=2)\n",
    "a[0].set_ylabel('Intensity', fontsize=18)\n",
    "a[0].set_title('Timeseries of spikes with varying intensities', fontsize=18)\n",
    "a[1].set_ylabel('Intensity', fontsize=18)\n",
    "a[1].set_xlabel('Time', fontsize=18)\n",
    "a[1].set_title('Signal convolved with HRF kernel', fontsize=18)"
   ]
  },
  {
   "cell_type": "code",
   "execution_count": null,
   "id": "8775adf0",
   "metadata": {},
   "outputs": [],
   "source": [
    "from ipywidgets import interact, FloatSlider\n",
    "from numpy import sin, pi, arange, real, imag\n",
    "\n",
    "def plot_oscillation(amplitude=5, frequency=5, theta=1):\n",
    "    sampling_frequency=500\n",
    "    time = arange(-1, 1 + 1/sampling_frequency, 1/sampling_frequency)\n",
    "    simulation = amplitude * sin(2 * pi * frequency * time + theta)\n",
    "\n",
    "    fig = plt.figure(figsize=(20, 4))\n",
    "    gs = plt.GridSpec(1, 6, left=0.05, right=0.48, wspace=0.05)\n",
    "    ax1 = fig.add_subplot(gs[0, :4])\n",
    "    ax1.plot(time, simulation, linewidth=2)\n",
    "    ax1.set_ylabel('Amplitude', fontsize=18)\n",
    "    ax1.set_xlabel('Time', fontsize=18)\n",
    "    ax2 = fig.add_subplot(gs[0, 5:], polar=True)\n",
    "    ax2.plot(real(simulation), imag(simulation))\n",
    "    plt.tight_layout()\n",
    "\n",
    "interact(plot_oscillation, amplitude=FloatSlider(value=5, min=0, max=10, step=0.5),\n",
    "         frequency=FloatSlider(value=5, min=0, max=10, step=0.5), \n",
    "         theta=FloatSlider(value=0, min=-5, max=5, step=0.5))"
   ]
  },
  {
   "cell_type": "code",
   "execution_count": null,
   "id": "ce867b8b",
   "metadata": {},
   "outputs": [],
   "source": [
    "sampling_freq = 500\n",
    "\n",
    "freq = [3, 10, 5 ,15, 35]\n",
    "amplitude = [5, 15, 10, 5, 7]\n",
    "phases = pi*np.array([1/7, 1/8, 1, 1/2, -1/4])\n",
    "\n",
    "time = arange(-1, 1 + 1/sampling_freq, 1/sampling_freq) \n",
    "\n",
    "sine_waves = []\n",
    "for i,f in enumerate(freq):\n",
    "    sine_waves.append(amplitude[i] * sin(2*pi*f*time + phases[i]))\n",
    "sine_waves = np.array(sine_waves)\n",
    "\n",
    "\n",
    "f,a = plt.subplots(nrows=5, ncols=1, figsize=(12,5), sharex=True)\n",
    "for i,x in enumerate(freq):\n",
    "    a[i].plot(sine_waves[i,:], linewidth=2)\n",
    "a[0].set_title(\"Sine waves oscillating at different frequencies\", fontsize=18)\n",
    "a[i].set_xlabel(\"Time\", fontsize=18)\n",
    "plt.tight_layout()    "
   ]
  },
  {
   "cell_type": "code",
   "execution_count": null,
   "id": "7d128263",
   "metadata": {},
   "outputs": [],
   "source": [
    "plt.figure(figsize=(12,3))\n",
    "plt.plot(np.sum(sine_waves, axis=0), linewidth=2)\n",
    "plt.xlabel('Time', fontsize=18)\n",
    "plt.title(\"Sum of all of the sine waves\", fontsize=18)\n",
    "plt.xlabel(\"Time\", fontsize=18)\n",
    "plt.tight_layout()"
   ]
  },
  {
   "cell_type": "code",
   "execution_count": null,
   "id": "395773b6",
   "metadata": {},
   "outputs": [],
   "source": [
    "%matplotlib inline\n",
    "\n",
    "from mpl_toolkits import mplot3d\n",
    "import numpy as np\n",
    "import matplotlib.pyplot as plt\n",
    "from nibabel.affines import apply_affine, from_matvec, to_matvec\n",
    "from scipy.ndimage import affine_transform, map_coordinates\n",
    "import nibabel as nib\n",
    "from ipywidgets import interact, FloatSlider\n",
    "\n",
    "def plot_rigid_body_transformation(trans_x=0, trans_y=0, trans_z=0, rot_x=0, rot_y=0, rot_z=0):\n",
    "    '''This plot creates an interactive demo to illustrate the parameters of a rigid body transformation'''\n",
    "    fov = 30\n",
    "    radius = 10\n",
    "    x, y, z = np.indices((fov, fov, fov))\n",
    "    cube = ((x > fov//2 - radius//2) & (x < fov//2 + radius//2)) & ((y > fov//2 - radius//2) & (y < fov//2 + radius//2)) & ((z > fov//2 - radius//2) & (z < fov//2 + radius//2 ))\n",
    "    cube = cube.astype(int)\n",
    "\n",
    "    vec = np.array([trans_x, trans_y, trans_z])\n",
    "    \n",
    "    rot_x = np.radians(rot_x)\n",
    "    rot_y = np.radians(rot_y)\n",
    "    rot_z = np.radians(rot_z)\n",
    "    rot_axis1 = np.array([[1, 0, 0],\n",
    "                         [0, np.cos(rot_x), -np.sin(rot_x)],\n",
    "                         [0, np.sin(rot_x), np.cos(rot_x)]])\n",
    "\n",
    "    rot_axis2 = np.array([[np.cos(rot_y), 0, np.sin(rot_y)],\n",
    "                         [0, 1, 0],\n",
    "                         [-np.sin(rot_y), 0, np.cos(rot_y)]])\n",
    "\n",
    "    rot_axis3 = np.array([[np.cos(rot_z), -np.sin(rot_z), 0],\n",
    "                         [np.sin(rot_z), np.cos(rot_z), 0],\n",
    "                         [0, 0, 1]])\n",
    "\n",
    "    rotation = rot_axis1 @ rot_axis2 @ rot_axis3\n",
    "    \n",
    "    affine = from_matvec(rotation, vec)\n",
    "    \n",
    "    i_coords, j_coords, k_coords = np.meshgrid(range(cube.shape[0]), range(cube.shape[1]), range(cube.shape[2]), indexing='ij')\n",
    "    coordinate_grid = np.array([i_coords, j_coords, k_coords])\n",
    "    coords_last = coordinate_grid.transpose(1, 2, 3, 0)\n",
    "    transformed = apply_affine(affine, coords_last)\n",
    "    coords_first = transformed.transpose(3, 0, 1, 2)\n",
    "\n",
    "    fig = plt.figure(figsize=(15, 12))\n",
    "    ax = plt.axes(projection='3d')\n",
    "    ax.voxels(map_coordinates(cube, coords_first))\n",
    "    ax.set_xlabel('x', fontsize=16)\n",
    "    ax.set_ylabel('y', fontsize=16)\n",
    "    ax.set_zlabel('z', fontsize=16)\n",
    "\n",
    "interact(plot_rigid_body_transformation, \n",
    "         trans_x=FloatSlider(value=0, min=-10, max=10, step=1),\n",
    "         trans_y=FloatSlider(value=0, min=-10, max=10, step=1),\n",
    "         trans_z=FloatSlider(value=0, min=-10, max=10, step=1),\n",
    "         rot_x=FloatSlider(value=0, min=0, max=360, step=15),\n",
    "         rot_y=FloatSlider(value=0, min=0, max=360, step=15),\n",
    "         rot_z=FloatSlider(value=0, min=0, max=360, step=15))"
   ]
  },
  {
   "cell_type": "code",
   "execution_count": null,
   "id": "fe3312de",
   "metadata": {},
   "outputs": [],
   "source": [
    "%matplotlib inline\n",
    "\n",
    "import os\n",
    "import glob\n",
    "import numpy as np\n",
    "import pandas as pd\n",
    "import matplotlib.pyplot as plt\n",
    "import seaborn as sns\n",
    "from nltools.stats import regress\n",
    "from nltools.external import glover_hrf"
   ]
  },
  {
   "cell_type": "code",
   "execution_count": null,
   "id": "94f65c38",
   "metadata": {},
   "outputs": [],
   "source": [
    "n_tr = 200\n",
    "n_trial = 5\n",
    "face = np.zeros(n_tr)\n",
    "face[np.arange(10, n_tr, int(n_tr/n_trial))] = 1\n",
    "\n",
    "def plot_timeseries(data, labels=None, linewidth=3):\n",
    "    '''Plot a timeseries\n",
    "    \n",
    "    Args:\n",
    "        data: (np.ndarray) signal varying over time, where each column is a different signal.\n",
    "        labels: (list) labels which need to correspond to the number of columns.\n",
    "        linewidth: (int) thickness of line\n",
    "    '''\n",
    "    plt.figure(figsize=(20,5))\n",
    "    plt.plot(data, linewidth=linewidth)\n",
    "    plt.ylabel('Intensity', fontsize=18)\n",
    "    plt.xlabel('Time', fontsize=18)\n",
    "    plt.tight_layout()\n",
    "    if labels is not None:\n",
    "        if len(labels) != data.shape[1]:\n",
    "            raise ValueError('Need to have the same number of labels as columns in data.')\n",
    "        plt.legend(labels, fontsize=18)\n",
    "    \n",
    "plot_timeseries(face)"
   ]
  },
  {
   "cell_type": "code",
   "execution_count": null,
   "id": "87a6edb9",
   "metadata": {},
   "outputs": [],
   "source": [
    "n_tr = 200\n",
    "n_trial = 5\n",
    "face = np.zeros(n_tr)\n",
    "face[np.arange(10, n_tr, int(n_tr/n_trial))] = 1\n",
    "obj = np.zeros(n_tr)\n",
    "obj[np.arange(20, n_tr, int(n_tr/n_trial))] = 1\n",
    "voxel = np.vstack([face,obj]).T\n",
    "\n",
    "plot_timeseries(voxel, labels=['Face', 'Object'])"
   ]
  },
  {
   "cell_type": "code",
   "execution_count": null,
   "id": "d48c1572",
   "metadata": {},
   "outputs": [],
   "source": [
    "n_tr = 200\n",
    "n_trial = 5\n",
    "face_intensity = 2\n",
    "object_intensity = 1\n",
    "\n",
    "face = np.zeros(n_tr)\n",
    "face[np.arange(10, n_tr, int(n_tr/n_trial))] = face_intensity\n",
    "obj = np.zeros(n_tr)\n",
    "obj[np.arange(20, n_tr, int(n_tr/n_trial))] = object_intensity\n",
    "voxel = np.vstack([face,obj]).T\n",
    "\n",
    "plot_timeseries(voxel, labels=['Face', 'Object'])"
   ]
  },
  {
   "cell_type": "code",
   "execution_count": null,
   "id": "ea80237d",
   "metadata": {},
   "outputs": [],
   "source": [
    "tr = 2\n",
    "hrf = glover_hrf(tr, oversampling=1)\n",
    "plt.plot(hrf, linewidth=3)\n",
    "plt.ylabel('Intensity', fontsize=18)\n",
    "plt.xlabel('Time', fontsize=18)"
   ]
  },
  {
   "cell_type": "code",
   "execution_count": null,
   "id": "a04a5dcb",
   "metadata": {},
   "outputs": [],
   "source": [
    "face_conv = np.convolve(face, hrf, mode='same')\n",
    "obj_conv = np.convolve(obj, hrf, mode='same')\n",
    "voxel_conv = np.vstack([face_conv, obj_conv]).T\n",
    "\n",
    "plot_timeseries(voxel_conv, labels=['Face', 'Object'])"
   ]
  },
  {
   "cell_type": "code",
   "execution_count": null,
   "id": "fb32b3a7",
   "metadata": {},
   "outputs": [],
   "source": [
    "sigma = 0.15\n",
    "epsilon = sigma*np.random.randn(n_tr, 2)\n",
    "voxel_conv_noise = voxel_conv + epsilon\n",
    "\n",
    "plot_timeseries(voxel_conv_noise, labels=['Face', 'Object'])"
   ]
  },
  {
   "cell_type": "code",
   "execution_count": null,
   "id": "177c2a2a",
   "metadata": {},
   "outputs": [],
   "source": [
    "Y = voxel_conv_noise.sum(axis=1)\n",
    "\n",
    "plot_timeseries(Y)"
   ]
  },
  {
   "cell_type": "code",
   "execution_count": null,
   "id": "4d0ce052",
   "metadata": {},
   "outputs": [],
   "source": [
    "n_tr = 200\n",
    "n_trial = 5\n",
    "face = np.zeros(n_tr)\n",
    "face[np.arange(10, n_tr, int(n_tr/n_trial))] = 1\n",
    "obj = np.zeros(n_tr)\n",
    "obj[np.arange(20, n_tr, int(n_tr/n_trial))] = 1\n",
    "intercept = np.ones(n_tr)\n",
    "X = np.vstack([intercept, np.convolve(face, hrf, mode='same'), np.convolve(obj, hrf, mode='same')]).T\n",
    "\n",
    "plot_timeseries(X)"
   ]
  },
  {
   "cell_type": "code",
   "execution_count": null,
   "id": "3f4239d8",
   "metadata": {},
   "outputs": [],
   "source": [
    "f, a = plt.subplots(ncols=4, figsize=(6, 10), sharey=True)\n",
    "a[0].plot(np.expand_dims(Y, axis=1), range(len(Y)))\n",
    "a[1].plot(X[:,0], range(len(Y)))\n",
    "a[2].plot(X[:,1], range(len(Y)))\n",
    "a[3].plot(X[:,2], range(len(Y)))\n",
    "a[0].set_ylabel('Time', fontsize=18)\n",
    "a[0].set_title('Y', fontsize=20)\n",
    "a[1].set_title('Intercept', fontsize=20)\n",
    "a[2].set_title('Faces', fontsize=20)\n",
    "a[3].set_title('Objects', fontsize=20)\n",
    "plt.gca().invert_yaxis()\n",
    "plt.tight_layout()"
   ]
  },
  {
   "cell_type": "code",
   "execution_count": null,
   "id": "d975e625",
   "metadata": {},
   "outputs": [],
   "source": [
    "def ols_estimator(X, Y):\n",
    "    return np.dot(np.dot(np.linalg.pinv(np.dot(X.T, X)), X.T), Y)\n",
    "\n",
    "beta = ols_estimator(X, Y)\n",
    "\n",
    "plt.bar(['Intercept','Faces', 'Objects'], beta)\n",
    "plt.xlabel('Regressor', fontsize=18)\n",
    "plt.ylabel('Beta Value', fontsize=18)\n",
    "\n",
    "print(f'beta Faces - beta Objects: {beta[1]-beta[2]:.2}')"
   ]
  },
  {
   "cell_type": "code",
   "execution_count": null,
   "id": "fd38f40e",
   "metadata": {},
   "outputs": [],
   "source": [
    "%matplotlib inline\n",
    "\n",
    "import os\n",
    "import glob\n",
    "import numpy as np\n",
    "import pandas as pd\n",
    "import matplotlib.pyplot as plt\n",
    "import seaborn as sns\n",
    "import nibabel as nib\n",
    "from nltools.file_reader import onsets_to_dm\n",
    "from nltools.stats import regress, zscore\n",
    "from nltools.data import Brain_Data, Design_Matrix\n",
    "from nltools.stats import find_spikes \n",
    "from nilearn.plotting import view_img, glass_brain, plot_stat_map\n",
    "from bids import BIDSLayout, BIDSValidator\n",
    "\n",
    "data_dir = '/opt/dora/Dora/BIDS_ELA/BIDS_ELA'\n",
    "layout = BIDSLayout(data_dir, derivatives = True)"
   ]
  },
  {
   "cell_type": "code",
   "execution_count": null,
   "id": "362d0265",
   "metadata": {},
   "outputs": [],
   "source": [
    "sub = 'C001'\n",
    "data = Brain_Data(layout.get(subject=sub, scope='derivatives', suffix='bold', extension='nii.gz', return_type='file'))"
   ]
  },
  {
   "cell_type": "code",
   "execution_count": null,
   "id": "6d9e1338",
   "metadata": {},
   "outputs": [],
   "source": [
    "print(layout.get(subject=sub, scope='derivatives', suffix='bold', extension='nii.gz', return_type='file')[0])"
   ]
  },
  {
   "cell_type": "code",
   "execution_count": null,
   "id": "7af0fb7c",
   "metadata": {},
   "outputs": [],
   "source": [
    "covariates = pd.read_csv(layout.get(subject=sub, scope='derivatives', extension='.tsv')[0].path, sep='\\t')\n",
    "\n",
    "mc = covariates[['trans_x','trans_y','trans_z','rot_x', 'rot_y', 'rot_z']]\n",
    "print(mc)\n",
    "plt.figure(figsize=(15,5))\n",
    "plt.plot(zscore(mc))"
   ]
  },
  {
   "cell_type": "code",
   "execution_count": null,
   "id": "e73cea10",
   "metadata": {},
   "outputs": [],
   "source": [
    "def make_motion_covariates(mc, tr):\n",
    "    z_mc = zscore(mc)\n",
    "    all_mc = pd.concat([z_mc, z_mc**2, z_mc.diff(), z_mc.diff()**2], axis=1)\n",
    "    all_mc.fillna(value=0, inplace=True)\n",
    "    return Design_Matrix(all_mc, sampling_freq=1/tr)\n",
    "\n",
    "tr = layout.get_tr()\n",
    "mc_cov = make_motion_covariates(mc, tr)\n",
    "\n",
    "sns.heatmap(mc_cov)"
   ]
  },
  {
   "cell_type": "code",
   "execution_count": null,
   "id": "a605dae4",
   "metadata": {},
   "outputs": [],
   "source": [
    "plt.figure(figsize=(15,3))\n",
    "plt.plot(np.mean(data.data, axis=1), linewidth=3)\n",
    "plt.xlabel('Time', fontsize=18)\n",
    "plt.ylabel('Intensity', fontsize=18)"
   ]
  },
  {
   "cell_type": "code",
   "execution_count": null,
   "id": "c006c1da",
   "metadata": {},
   "outputs": [],
   "source": [
    "spikes = data.find_spikes(global_spike_cutoff=2.5, diff_spike_cutoff=2.5)\n",
    "\n",
    "f, a = plt.subplots(figsize=(15,3))\n",
    "spikes = Design_Matrix(spikes.iloc[:,1:], sampling_freq=1/tr)\n",
    "spikes.plot(ax = a, linewidth=2)"
   ]
  },
  {
   "cell_type": "code",
   "execution_count": null,
   "id": "8d21eabb",
   "metadata": {},
   "outputs": [],
   "source": [
    "fwhm=6\n",
    "smoothed = data.smooth(fwhm=fwhm)"
   ]
  },
  {
   "cell_type": "code",
   "execution_count": null,
   "id": "cdcc84bf",
   "metadata": {},
   "outputs": [],
   "source": [
    "data.mean().plot()"
   ]
  },
  {
   "cell_type": "code",
   "execution_count": null,
   "id": "071b7616",
   "metadata": {},
   "outputs": [],
   "source": [
    "smoothed.mean().plot()"
   ]
  },
  {
   "cell_type": "code",
   "execution_count": null,
   "id": "52ed3772",
   "metadata": {},
   "outputs": [],
   "source": [
    "import os\n",
    "import matplotlib.pyplot as plt\n",
    "from nilearn import image as nimg\n",
    "from nilearn import plotting as nplot\n",
    "from bids import BIDSLayout\n",
    "\n",
    "#for inline visualization in jupyter notebook\n",
    "%matplotlib inline "
   ]
  },
  {
   "cell_type": "code",
   "execution_count": null,
   "id": "ac658fd9",
   "metadata": {},
   "outputs": [],
   "source": [
    "data_dir = '/opt/dora/Dora/BIDS_ELA/BIDS_ELA'\n",
    "layout = BIDSLayout(data_dir, derivatives = True)"
   ]
  },
  {
   "cell_type": "code",
   "execution_count": null,
   "id": "51052655",
   "metadata": {},
   "outputs": [],
   "source": [
    "#Base directory for fmriprep output\n",
    "fmriprep_dir = '/opt/dora/Dora/BIDS_ELA/BIDS_ELA'\n",
    "sub = 'C001'\n",
    "layout= BIDSLayout(fmriprep_dir, derivatives = True)\n",
    "\n",
    "T1w_files = layout.get(subject=sub, scope='derivatives', datatype = 'anat', extension='nii.gz', return_type='file')\n",
    "\n",
    "T1w_files = layout.get(subject=sub, datatype='anat',\n",
    "\t\t\t\t\t   desc='preproc', extension='.nii.gz',\n",
    "\t\t\t\t\t   return_type='file')\n",
    "\n",
    "brainmask_files = layout.get(subject=sub, datatype='anat', suffix=\"mask\",\n",
    "                             desc='brain', extension='.nii.gz',\n",
    "                             return_type='file')"
   ]
  },
  {
   "cell_type": "code",
   "execution_count": null,
   "id": "df05f53f",
   "metadata": {},
   "outputs": [],
   "source": [
    "T1w_files[0]\n",
    "#brainmask_files"
   ]
  },
  {
   "cell_type": "code",
   "execution_count": null,
   "id": "9bfa9d17",
   "metadata": {},
   "outputs": [],
   "source": [
    "t1 = T1w_files[0]\n",
    "bm = brainmask_files[0]\n",
    "\n",
    "print(t1)\n",
    "\n",
    "t1_img = nimg.load_img(t1)\n",
    "bm_img = nimg.load_img(bm)"
   ]
  },
  {
   "cell_type": "code",
   "execution_count": null,
   "id": "918a8bc1",
   "metadata": {},
   "outputs": [],
   "source": [
    "nplot.plot_anat(t1_img)"
   ]
  },
  {
   "cell_type": "code",
   "execution_count": null,
   "id": "e5967996",
   "metadata": {},
   "outputs": [],
   "source": [
    "nplot.plot_anat(bm_img)"
   ]
  },
  {
   "cell_type": "code",
   "execution_count": null,
   "id": "3c2ca3c8",
   "metadata": {},
   "outputs": [],
   "source": [
    "nplot.view_img(t1_img,\n",
    "               bg_img=False, # Disable using a standard image as the background\n",
    "               cmap='Greys_r', # Set color scale so white matter appears lighter than grey\n",
    "               symmetric_cmap=False, # We don't have negative values\n",
    "               threshold=\"auto\", # Clears out the background\n",
    "              )"
   ]
  },
  {
   "cell_type": "code",
   "execution_count": null,
   "id": "d0126ee9",
   "metadata": {},
   "outputs": [],
   "source": [
    "invert_img = nimg.math_img('-a', a=t1_img)\n",
    "nplot.plot_anat(invert_img)"
   ]
  },
  {
   "cell_type": "code",
   "execution_count": null,
   "id": "24a13cd3",
   "metadata": {},
   "outputs": [],
   "source": [
    "masked_t1 = nimg.math_img('a*b', a=t1_img, b=bm_img)\n",
    "nplot.plot_anat(masked_t1)"
   ]
  },
  {
   "cell_type": "code",
   "execution_count": null,
   "id": "66573c7d",
   "metadata": {},
   "outputs": [],
   "source": [
    "import os\n",
    "import matplotlib.pyplot as plt #to enable plotting within notebook\n",
    "from nilearn import image as nimg\n",
    "from nilearn import plotting as nplot\n",
    "from bids.layout import BIDSLayout\n",
    "import numpy as np\n",
    "%matplotlib inline"
   ]
  },
  {
   "cell_type": "code",
   "execution_count": null,
   "id": "001308a8",
   "metadata": {},
   "outputs": [],
   "source": [
    "fmriprep_dir = '/opt/dora/Dora/BIDS_ELA/BIDS_ELA/derivatives/fmriprep'\n",
    "sub = 'C001'\n",
    "layout=BIDSLayout(fmriprep_dir, validate=False,\n",
    "                  config=['bids','derivatives'])\n",
    "\n",
    "T1w_files = layout.get(subject=sub,\n",
    "                       datatype='anat', desc='preproc',\n",
    "                       space='MNI152NLin2009cAsym',\n",
    "                       extension=\"nii.gz\",\n",
    "                      return_type='file')\n",
    "\n",
    "brainmask_files = layout.get(subject=sub,\n",
    "                             datatype='anat', suffix='mask',\n",
    "                             desc='brain',\n",
    "                             space='MNI152NLin2009cAsym',\n",
    "                             extension=\"nii.gz\",\n",
    "                            return_type='file')\n",
    "\n",
    "func_files = layout.get(subject=sub,\n",
    "                        datatype='func', desc='preproc',\n",
    "                       space='MNI152NLin2009cAsym',\n",
    "                       extension=\"nii.gz\",\n",
    "                       return_type='file')\n",
    "\n",
    "func_mask_files = layout.get(subject=sub,\n",
    "                             datatype='func', suffix='mask',\n",
    "                             desc='brain',\n",
    "                             space='MNI152NLin2009cAsym',\n",
    "                             extension=\"nii.gz\",\n",
    "                            return_type='file')"
   ]
  },
  {
   "cell_type": "code",
   "execution_count": null,
   "id": "1fc8f675",
   "metadata": {},
   "outputs": [],
   "source": [
    "func_mask_files"
   ]
  },
  {
   "cell_type": "code",
   "execution_count": null,
   "id": "8220f977",
   "metadata": {},
   "outputs": [],
   "source": [
    "func_mni = func_files[0]\n",
    "func_mni_img = nimg.load_img(func_mni)"
   ]
  },
  {
   "cell_type": "code",
   "execution_count": null,
   "id": "f7d886d6",
   "metadata": {},
   "outputs": [],
   "source": [
    "func_mni_img.shape"
   ]
  },
  {
   "cell_type": "code",
   "execution_count": null,
   "id": "a73809e9",
   "metadata": {},
   "outputs": [],
   "source": [
    "single_vox = func_mni_img.slicer[59:60,45:46,30:31,:].get_data()\n",
    "single_vox.shape"
   ]
  },
  {
   "cell_type": "code",
   "execution_count": null,
   "id": "831d6d9f",
   "metadata": {},
   "outputs": [],
   "source": [
    "single_vox = single_vox.flatten()\n",
    "single_vox.shape"
   ]
  },
  {
   "cell_type": "code",
   "execution_count": null,
   "id": "c0460a18",
   "metadata": {},
   "outputs": [],
   "source": [
    "# Make an array counting from 0 --> 152, this will be our x-axis\n",
    "x_axis = np.arange(0, single_vox.shape[0])\n",
    "\n",
    "# Plot our x and y data, the 'k' just specifies the line color to be black\n",
    "plt.plot( x_axis, single_vox, 'k')\n",
    "\n",
    "# Label our axes\n",
    "plt.xlabel('Timepoint')\n",
    "plt.ylabel('Signal Value')"
   ]
  },
  {
   "cell_type": "code",
   "execution_count": null,
   "id": "29b5a4ad",
   "metadata": {},
   "outputs": [],
   "source": [
    "# Files we'll be using (Notice that we're using _space-MNI...\n",
    "# which means they are normalized brains)\n",
    "T1_mni = T1w_files[0]\n",
    "T1_mni_img = nimg.load_img(T1_mni)"
   ]
  },
  {
   "cell_type": "code",
   "execution_count": null,
   "id": "a91e4ae7",
   "metadata": {},
   "outputs": [],
   "source": [
    "print(T1_mni_img.shape)\n",
    "print(func_mni_img.shape)"
   ]
  },
  {
   "cell_type": "code",
   "execution_count": null,
   "id": "3941a0f6",
   "metadata": {},
   "outputs": [],
   "source": [
    "#Try playing around with methods of interpolation\n",
    "#options: 'linear','continuous','nearest'\n",
    "resamp_t1 = nimg.resample_to_img(source_img=T1_mni_img,target_img=func_mni_img,interpolation='continuous')\n",
    "print(resamp_t1.shape)\n",
    "print(func_mni_img.shape)\n",
    "nplot.plot_anat(resamp_t1)"
   ]
  },
  {
   "cell_type": "code",
   "execution_count": null,
   "id": "794ed8a8",
   "metadata": {},
   "outputs": [],
   "source": [
    "import os\n",
    "from nilearn import image as nimg\n",
    "from nilearn import plotting as nplot\n",
    "import numpy as np\n",
    "import nibabel as nib\n",
    "import pandas as pd"
   ]
  },
  {
   "cell_type": "code",
   "execution_count": null,
   "id": "c293a1b0",
   "metadata": {},
   "outputs": [],
   "source": [
    "T1w_files = layout.get(subject=sub,\n",
    "                       datatype='anat', desc='preproc',\n",
    "                       space='MNI152NLin2009cAsym',\n",
    "                       extension=\"nii.gz\",\n",
    "                      return_type='file')\n",
    "\n",
    "brainmask_files = layout.get(subject=sub,\n",
    "                             datatype='anat', suffix='mask',\n",
    "                             desc='brain',\n",
    "                             space='MNI152NLin2009cAsym',\n",
    "                             extension=\"nii.gz\",\n",
    "                            return_type='file')\n",
    "\n",
    "func_files = layout.get(subject=sub,\n",
    "                        datatype='func', desc='preproc',\n",
    "                       space='MNI152NLin2009cAsym',\n",
    "                       extension=\"nii.gz\",\n",
    "                       return_type='file')\n",
    "\n",
    "func_mask_files = layout.get(subject=sub,\n",
    "                             datatype='func', suffix='mask',\n",
    "                             desc='brain',\n",
    "                             space='MNI152NLin2009cAsym',\n",
    "                             extension=\"nii.gz\",\n",
    "                            return_type='file')\n",
    "\n",
    "confound_files = layout.get(subject=sub,\n",
    "                            datatype='func', task='resting',\n",
    "                            desc='confounds',\n",
    "                           extension=\"tsv\",\n",
    "                           return_type='file')"
   ]
  },
  {
   "cell_type": "code",
   "execution_count": null,
   "id": "e9125630",
   "metadata": {},
   "outputs": [],
   "source": [
    "print(confound_files)"
   ]
  },
  {
   "cell_type": "code",
   "execution_count": null,
   "id": "2ed72302",
   "metadata": {},
   "outputs": [],
   "source": [
    "func_file = func_files[0]\n",
    "mask_file = func_mask_files[0]\n",
    "confound_file = confound_files[0]"
   ]
  },
  {
   "cell_type": "code",
   "execution_count": null,
   "id": "c09a520e",
   "metadata": {},
   "outputs": [],
   "source": [
    "#Delimiter is \\t --> tsv is a tab-separated spreadsheet\n",
    "confound_df = pd.read_csv(confound_file, delimiter='\\t')\n",
    "confound_df.head()"
   ]
  },
  {
   "cell_type": "code",
   "execution_count": null,
   "id": "a3315af0",
   "metadata": {},
   "outputs": [],
   "source": [
    "# Select confounds\n",
    "confound_vars = ['trans_x','trans_y','trans_z',\n",
    "                 'rot_x','rot_y','rot_z',\n",
    "                 'global_signal',\n",
    "                 'csf', 'white_matter']"
   ]
  },
  {
   "cell_type": "code",
   "execution_count": null,
   "id": "113a8387",
   "metadata": {},
   "outputs": [],
   "source": [
    "# Get derivative column names\n",
    "derivative_columns = ['{}_derivative1'.format(c) for c\n",
    "                     in confound_vars]\n",
    "\n",
    "print(derivative_columns)"
   ]
  },
  {
   "cell_type": "code",
   "execution_count": null,
   "id": "deaf0ea1",
   "metadata": {},
   "outputs": [],
   "source": [
    "final_confounds = confound_vars + derivative_columns\n",
    "print(final_confounds)"
   ]
  },
  {
   "cell_type": "code",
   "execution_count": null,
   "id": "6d4828a4",
   "metadata": {},
   "outputs": [],
   "source": [
    "confound_df = confound_df[final_confounds]\n",
    "confound_df"
   ]
  },
  {
   "cell_type": "code",
   "execution_count": null,
   "id": "4b825c3e",
   "metadata": {},
   "outputs": [],
   "source": [
    "#First we'll load in our data and check the shape\n",
    "raw_func_img = nimg.load_img(func_file)\n",
    "raw_func_img.shape"
   ]
  },
  {
   "cell_type": "code",
   "execution_count": null,
   "id": "0141314e",
   "metadata": {},
   "outputs": [],
   "source": [
    "func_img = raw_func_img.slicer[:,:,:,4:]\n",
    "func_img.shape"
   ]
  },
  {
   "cell_type": "code",
   "execution_count": null,
   "id": "5ca22428",
   "metadata": {},
   "outputs": [],
   "source": [
    "#Drop confound dummy TRs\n",
    "drop_confound_df = confound_df.loc[4:]\n",
    "print(drop_confound_df.shape) #number of rows should match that of the functional image\n",
    "drop_confound_df.head()"
   ]
  },
  {
   "cell_type": "code",
   "execution_count": null,
   "id": "c81ecbab",
   "metadata": {},
   "outputs": [],
   "source": [
    "confounds_matrix = drop_confound_df.values\n",
    "\n",
    "#Confirm matrix size is correct\n",
    "confounds_matrix.shape"
   ]
  },
  {
   "cell_type": "code",
   "execution_count": null,
   "id": "49034fd2",
   "metadata": {},
   "outputs": [],
   "source": [
    "#Set some constants\n",
    "high_pass= 0.009\n",
    "low_pass = 0.08\n",
    "t_r = 2\n",
    "\n",
    "#Clean!\n",
    "clean_img = nimg.clean_img(func_img,confounds=confounds_matrix,detrend=True,standardize=True,\n",
    "                         low_pass=low_pass,high_pass=high_pass,t_r=t_r, mask_img=mask_file)\n",
    "\n",
    "#Let's visualize our result! Doesn't really tell us much, but that's the data we're using for analysis!\n",
    "nplot.plot_epi(clean_img.slicer[:,:,:,50])"
   ]
  },
  {
   "cell_type": "code",
   "execution_count": null,
   "id": "6ce74d01",
   "metadata": {},
   "outputs": [],
   "source": [
    "from nilearn import datasets\n",
    "from nilearn import image as nimg\n",
    "from nilearn import plotting as nplot"
   ]
  },
  {
   "cell_type": "code",
   "execution_count": null,
   "id": "6df655df",
   "metadata": {},
   "outputs": [],
   "source": [
    "parcel_dir = '../resources/rois/'\n",
    "atlas_yeo_2011 = datasets.fetch_atlas_yeo_2011(parcel_dir)"
   ]
  },
  {
   "cell_type": "code",
   "execution_count": null,
   "id": "a341cd50",
   "metadata": {},
   "outputs": [],
   "source": [
    "atlas_yeo_2011.keys()"
   ]
  },
  {
   "cell_type": "code",
   "execution_count": null,
   "id": "d9271bd1",
   "metadata": {},
   "outputs": [],
   "source": [
    "#Define where to slice the image\n",
    "cut_coords = (8, -4, 9)\n",
    "#Show a colorbar\n",
    "colorbar=True\n",
    "#Color scheme to show when viewing image\n",
    "cmap='Paired'\n",
    "\n",
    "#Plot all parcellation schemas referred to by atlas_yeo_2011\n",
    "nplot.plot_roi(atlas_yeo_2011['thin_7'], cut_coords=cut_coords, colorbar=colorbar, cmap=cmap, title='thin_7')\n",
    "nplot.plot_roi(atlas_yeo_2011['thin_17'], cut_coords=cut_coords, colorbar=colorbar, cmap=cmap, title='thin_17')\n",
    "nplot.plot_roi(atlas_yeo_2011['thick_7'], cut_coords=cut_coords, colorbar=colorbar, cmap=cmap, title='thick_7')\n",
    "nplot.plot_roi(atlas_yeo_2011['thick_17'], cut_coords=cut_coords, colorbar=colorbar, cmap=cmap, title='thick_17')"
   ]
  },
  {
   "cell_type": "code",
   "execution_count": null,
   "id": "723d7ceb",
   "metadata": {},
   "outputs": [],
   "source": [
    "atlas_yeo = atlas_yeo_2011['thick_7']"
   ]
  },
  {
   "cell_type": "code",
   "execution_count": null,
   "id": "5cfdba11",
   "metadata": {},
   "outputs": [],
   "source": [
    "from nilearn.regions import connected_label_regions\n",
    "region_labels = connected_label_regions(atlas_yeo)\n",
    "nplot.plot_roi(region_labels,\n",
    "\t\t\tcut_coords=(-20,-10,0,10,20,30,40,50,60,70),\n",
    "\t\t\tdisplay_mode='z',\n",
    "\t\t\tcolorbar=True,\n",
    "\t\t\tcmap='Paired',\n",
    "\t\t\ttitle='Relabeled Yeo Atlas')"
   ]
  },
  {
   "cell_type": "code",
   "execution_count": null,
   "id": "0443b6cd",
   "metadata": {},
   "outputs": [],
   "source": [
    "region_labels.to_filename('../resources/rois/yeo_2011/Yeo_JNeurophysiol11_MNI152/relabeled_yeo_atlas.nii.gz')"
   ]
  },
  {
   "cell_type": "code",
   "execution_count": null,
   "id": "b241cfa1",
   "metadata": {},
   "outputs": [],
   "source": [
    "resampled_yeo = nimg.resample_to_img(region_labels, func_img, interpolation = 'nearest')"
   ]
  },
  {
   "cell_type": "code",
   "execution_count": null,
   "id": "64a7377c",
   "metadata": {},
   "outputs": [],
   "source": [
    "# Note that we're pulling a random timepoint from the fMRI data\n",
    "nplot.plot_roi(resampled_yeo, func_img.slicer[:, :, :, 54])"
   ]
  },
  {
   "cell_type": "code",
   "execution_count": null,
   "id": "8f9387dd",
   "metadata": {},
   "outputs": [],
   "source": [
    "# Make a mask for ROI 44\n",
    "roi_mask = nimg.math_img('a == 44', a=resampled_yeo)  \n",
    "\n",
    "# Visualize ROI\n",
    "nplot.plot_roi(roi_mask)\n",
    "\n",
    "# Make a mask for ROI 44\n",
    "roi_mask = nimg.math_img('a == 46', a=resampled_yeo)  \n",
    "\n",
    "# Visualize ROI\n",
    "nplot.plot_roi(roi_mask)"
   ]
  },
  {
   "cell_type": "code",
   "execution_count": null,
   "id": "674f53a3",
   "metadata": {},
   "outputs": [],
   "source": [
    "#Load separated parcellation\n",
    "parcel_file = '../resources/rois/yeo_2011/Yeo_JNeurophysiol11_MNI152/relabeled_yeo_atlas.nii.gz'\n",
    "yeo_7 = nimg.load_img(parcel_file)"
   ]
  },
  {
   "cell_type": "code",
   "execution_count": null,
   "id": "450f172e",
   "metadata": {},
   "outputs": [],
   "source": [
    "from nilearn import input_data\n",
    "\n",
    "\n",
    "masker = input_data.NiftiLabelsMasker(labels_img=yeo_7,\n",
    "                                      standardize=True,\n",
    "                                      memory='nilearn_cache',\n",
    "                                      verbose=1,\n",
    "                                      detrend=True,\n",
    "                                     low_pass = 0.08,\n",
    "                                     high_pass = 0.009,\n",
    "                                     t_r=2)"
   ]
  },
  {
   "cell_type": "code",
   "execution_count": null,
   "id": "6a560340",
   "metadata": {},
   "outputs": [],
   "source": [
    "#Refer to part_06 for code + explanation\n",
    "def extract_confounds(confound_tsv,confounds,dt=True):\n",
    "    '''\n",
    "    Arguments:\n",
    "        confound_tsv                    Full path to confounds.tsv\n",
    "        confounds                       A list of confounder variables to extract\n",
    "        dt                              Compute temporal derivatives [default = True]\n",
    "        \n",
    "    Outputs:\n",
    "        confound_mat                    \n",
    "    '''\n",
    "    \n",
    "    if dt:    \n",
    "        dt_names = ['{}_derivative1'.format(c) for c in confounds]\n",
    "        confounds = confounds + dt_names\n",
    "    \n",
    "    #Load in data using Pandas then extract relevant columns\n",
    "    confound_df = pd.read_csv(confound_tsv,delimiter='\\t') \n",
    "    confound_df = confound_df[confounds]\n",
    "    \n",
    " \n",
    "    #Convert into a matrix of values (timepoints)x(variable)\n",
    "    confound_mat = confound_df.values \n",
    "    \n",
    "    #Return confound matrix\n",
    "    return confound_mat"
   ]
  },
  {
   "cell_type": "code",
   "execution_count": null,
   "id": "76dacbe1",
   "metadata": {},
   "outputs": [],
   "source": [
    "#Load functional image\n",
    "tr_drop = 4\n",
    "func_img = nimg.load_img(func_file)\n",
    "\n",
    "#Remove the first 4 TRs\n",
    "func_img = func_img.slicer[:,:,:,tr_drop:]\n",
    "\n",
    "#Use the above function to pull out a confound matrix\n",
    "confounds = extract_confounds(confound_file,\n",
    "                              ['trans_x','trans_y','trans_z',\n",
    "                               'rot_x','rot_y','rot_z',\n",
    "                               'global_signal',\n",
    "                               'white_matter','csf'])\n",
    "#Drop the first 4 rows of the confounds matrix\n",
    "confounds = confounds[tr_drop:,:] "
   ]
  },
  {
   "cell_type": "code",
   "execution_count": null,
   "id": "7383d590",
   "metadata": {},
   "outputs": [],
   "source": [
    "#Apply cleaning, parcellation and extraction to functional data\n",
    "cleaned_and_averaged_time_series = masker.fit_transform(func_img,confounds)\n",
    "cleaned_and_averaged_time_series.shape"
   ]
  },
  {
   "cell_type": "code",
   "execution_count": null,
   "id": "9b0f90be",
   "metadata": {},
   "outputs": [],
   "source": [
    "print(masker.labels_)\n",
    "print(\"Number of labels\", len(masker.labels_))"
   ]
  },
  {
   "cell_type": "code",
   "execution_count": null,
   "id": "d1f942e5",
   "metadata": {},
   "outputs": [],
   "source": [
    "# Get the label numbers from the atlas\n",
    "atlas_labels = np.unique(yeo_7.get_fdata().astype(int))\n",
    "\n",
    "# Get number of labels that we have\n",
    "NUM_LABELS = len(atlas_labels)\n",
    "print(NUM_LABELS)"
   ]
  },
  {
   "cell_type": "code",
   "execution_count": null,
   "id": "73e229ec",
   "metadata": {},
   "outputs": [],
   "source": [
    "# Remember fMRI images are of size (x,y,z,t)\n",
    "# where t is the number of timepoints\n",
    "num_timepoints = func_img.shape[3]\n",
    "\n",
    "# Create an array of zeros that has the correct size\n",
    "final_signal = np.zeros((num_timepoints, NUM_LABELS))\n",
    "\n",
    "# Get regions that are kept\n",
    "regions_kept = np.array(masker.labels_)\n",
    "\n",
    "# Fill columns matching labels with signal values\n",
    "final_signal[:, regions_kept] = cleaned_and_averaged_time_series\n",
    "\n",
    "print(final_signal.shape)"
   ]
  },
  {
   "cell_type": "code",
   "execution_count": null,
   "id": "12bef0e1",
   "metadata": {},
   "outputs": [],
   "source": [
    "valid_regions_signal = final_signal[:, regions_kept]\n",
    "print(valid_regions_signal.shape)"
   ]
  },
  {
   "cell_type": "code",
   "execution_count": null,
   "id": "23038b90",
   "metadata": {},
   "outputs": [],
   "source": [
    "np.array_equal(\n",
    "    valid_regions_signal,\n",
    "    cleaned_and_averaged_time_series\n",
    ")"
   ]
  },
  {
   "cell_type": "code",
   "execution_count": null,
   "id": "adf0ae38",
   "metadata": {},
   "outputs": [],
   "source": [
    "from nilearn.connectome import ConnectivityMeasure"
   ]
  },
  {
   "cell_type": "code",
   "execution_count": null,
   "id": "b6092e9a",
   "metadata": {},
   "outputs": [],
   "source": [
    "correlation_measure = ConnectivityMeasure(kind='correlation')"
   ]
  },
  {
   "cell_type": "code",
   "execution_count": null,
   "id": "5e8c8625",
   "metadata": {},
   "outputs": [],
   "source": [
    "full_correlation_matrix = correlation_measure.fit_transform([cleaned_and_averaged_time_series])\n",
    "full_correlation_matrix.shape"
   ]
  },
  {
   "cell_type": "code",
   "execution_count": null,
   "id": "862a2b82",
   "metadata": {},
   "outputs": [],
   "source": [
    "full_correlation_matrix[0, 43, 45]"
   ]
  },
  {
   "cell_type": "code",
   "execution_count": null,
   "id": "07d8d504",
   "metadata": {},
   "outputs": [],
   "source": [
    "full_correlation_matrix[0, 45, 43]"
   ]
  },
  {
   "cell_type": "code",
   "execution_count": null,
   "id": "37382d0f",
   "metadata": {},
   "outputs": [],
   "source": [
    "# First we're going to create some empty lists to store all our data in!\n",
    "ctrl_subjects = []\n",
    "schz_subjects = []\n",
    "\n",
    "\n",
    "# We're going to keep track of each of our subjects labels here\n",
    "# pulled from masker.labels_\n",
    "labels_list = []\n",
    "\n",
    "# Get the number of unique labels in our parcellation\n",
    "# We'll use this to figure out how many columns to make (as we did earlier)\n",
    "atlas_labels = np.unique(yeo_7.get_fdata().astype(int))\n",
    "NUM_LABELS = len(atlas_labels)\n",
    "\n",
    "# Set the list of confound variables we'll be using\n",
    "confound_variables = ['trans_x','trans_y','trans_z',\n",
    "                               'rot_x','rot_y','rot_z',\n",
    "                               'global_signal',\n",
    "                               'white_matter','csf']\n",
    "\n",
    "# Number of TRs we should drop\n",
    "TR_DROP=4\n",
    "\n",
    "# Lets get all the subjects we have\n",
    "subjects = layout.get_subjects()\n",
    "\n",
    "for sub in subjects:\n",
    "    \n",
    "    T1w_files = layout.get(subject=sub,\n",
    "                       datatype='anat', desc='preproc',\n",
    "                       space='MNI152NLin2009cAsym',\n",
    "                       extension=\"nii.gz\",\n",
    "                      return_type='file')\n",
    "\n",
    "    brainmask_files = layout.get(subject=sub,\n",
    "                             datatype='anat', suffix='mask',\n",
    "                             desc='brain',\n",
    "                             space='MNI152NLin2009cAsym',\n",
    "                             extension=\"nii.gz\",\n",
    "                            return_type='file')\n",
    "\n",
    "    func_files = layout.get(subject=sub,\n",
    "                        datatype='func', desc='preproc',\n",
    "                       space='MNI152NLin2009cAsym',\n",
    "                       extension=\"nii.gz\",\n",
    "                       return_type='file')\n",
    "\n",
    "    func_mask_files = layout.get(subject=sub,\n",
    "                             datatype='func', suffix='mask',\n",
    "                             desc='brain',\n",
    "                             space='MNI152NLin2009cAsym',\n",
    "                             extension=\"nii.gz\",\n",
    "                            return_type='file')\n",
    "\n",
    "    confound_files = layout.get(subject=sub,\n",
    "                            datatype='func', task='resting',\n",
    "                            desc='confounds',\n",
    "                           extension=\"tsv\",\n",
    "                           return_type='file')\n",
    "    \n",
    "    #Load the functional file in\n",
    "    func_img = nimg.load_img(func_files)\n",
    "    \n",
    "    #Drop the first 4 TRs\n",
    "    func_img = func_img.slicer[:,:,:,tr_drop:]\n",
    "    \n",
    "    \n",
    "    #Extract the confound variables using the function\n",
    "    confounds = extract_confounds(confound_file,\n",
    "                                  confound_variables)\n",
    "    \n",
    "    #Drop the first 4 rows from the confound matrix\n",
    "    #Which rows and columns should we keep?\n",
    "    confounds = confounds[tr_drop:,:]\n",
    "    \n",
    "    #Apply the parcellation + cleaning to our data\n",
    "    #What function of masker is used to clean and average data?\n",
    "    time_series = masker.fit_transform(func_img,confounds)\n",
    "    \n",
    "    #This collects a list of all subjects\n",
    "    pooled_subjects.append(time_series)\n",
    "    \n",
    "    #If the subject ID starts with a \"1\" then they are control\n",
    "    if sub.startswith('C'):\n",
    "        ctrl_subjects.append(time_series)\n",
    "        print(ctrl_subjects)\n",
    "        print(time_series)\n",
    "    #If the subject ID starts with a \"5\" then they are case (case of schizophrenia)\n",
    "    if sub.startswith('5'):\n",
    "        schz_subjects.append(time_series)\n",
    "        print(schz_subjects)\n",
    "        print(time_series)"
   ]
  },
  {
   "cell_type": "code",
   "execution_count": null,
   "id": "9a529f40",
   "metadata": {},
   "outputs": [],
   "source": [
    "ctrl_correlation_matrices = correlation_measure.fit_transform(ctrl_subjects)\n",
    "#schz_correlation_matrices = correlation_measure.fit_transform(schz_subjects)"
   ]
  },
  {
   "cell_type": "code",
   "execution_count": null,
   "id": "44d66756",
   "metadata": {},
   "outputs": [],
   "source": [
    "import seaborn as sns\n",
    "import matplotlib.pyplot as plt"
   ]
  },
  {
   "cell_type": "code",
   "execution_count": null,
   "id": "0c006442",
   "metadata": {},
   "outputs": [],
   "source": [
    "sns.heatmap(ctrl_correlation_matrices[0], cmap='RdBu_r')"
   ]
  },
  {
   "cell_type": "code",
   "execution_count": null,
   "id": "06ef427a",
   "metadata": {},
   "outputs": [],
   "source": [
    "sns.heatmap(np.abs(ctrl_correlation_matrices[0]), cmap='viridis')"
   ]
  },
  {
   "cell_type": "code",
   "execution_count": null,
   "id": "9558970c",
   "metadata": {},
   "outputs": [],
   "source": [
    "print(ctrl_correlation_matrices.shape)"
   ]
  },
  {
   "cell_type": "code",
   "execution_count": null,
   "id": "24c7e4c4",
   "metadata": {},
   "outputs": [],
   "source": [
    "ctrl_roi_vec = ctrl_correlation_matrices[:,43,45]\n",
    "#schz_roi_vec = schz_correlation_matrices[:,43,45]"
   ]
  },
  {
   "cell_type": "code",
   "execution_count": null,
   "id": "fbfc9658",
   "metadata": {},
   "outputs": [],
   "source": [
    "#Create control dataframe\n",
    "ctrl_df = pd.DataFrame(data={'dmn_corr':ctrl_roi_vec, 'group':'control'})\n",
    "ctrl_df.head()"
   ]
  },
  {
   "cell_type": "code",
   "execution_count": null,
   "id": "1672ae9d",
   "metadata": {},
   "outputs": [],
   "source": [
    "# Create the schizophrenia dataframe\n",
    "#scz_df = pd.DataFrame(data={'dmn_corr':schz_roi_vec, 'group' : 'schizophrenia'})\n",
    "#scz_df.head()"
   ]
  },
  {
   "cell_type": "code",
   "execution_count": null,
   "id": "dbb48e16",
   "metadata": {},
   "outputs": [],
   "source": [
    "#Stack the two dataframes together\n",
    "df = ctrl_df\n"
   ]
  },
  {
   "cell_type": "code",
   "execution_count": null,
   "id": "428363ce",
   "metadata": {},
   "outputs": [],
   "source": [
    "#Visualize results\n",
    "\n",
    "# Create a figure canvas of equal width and height\n",
    "plot = plt.figure(figsize=(5,5))\n",
    "                  \n",
    "# Create a box plot, with the x-axis as group\n",
    "#the y-axis as the correlation value\n",
    "ax = sns.boxplot(x='group',y='dmn_corr',data=df,palette='Set3')\n",
    "\n",
    "# Create a \"swarmplot\" as well, you'll see what this is..\n",
    "ax = sns.swarmplot(x='group',y='dmn_corr',data=df,color='0.25')\n",
    "\n",
    "# Set the title and labels of the figure\n",
    "ax.set_title('DMN Intra-network Connectivity')\n",
    "ax.set_ylabel(r'Intra-network connectivity $\\mu_\\rho$')\n",
    "\n",
    "plt.show()"
   ]
  },
  {
   "cell_type": "code",
   "execution_count": null,
   "id": "8eee0faa",
   "metadata": {},
   "outputs": [],
   "source": []
  },
  {
   "cell_type": "code",
   "execution_count": null,
   "id": "be2118ff",
   "metadata": {},
   "outputs": [],
   "source": []
  },
  {
   "cell_type": "code",
   "execution_count": null,
   "id": "e963943b",
   "metadata": {},
   "outputs": [],
   "source": []
  }
 ],
 "metadata": {
  "kernelspec": {
   "display_name": "Python 3 (ipykernel)",
   "language": "python",
   "name": "python3"
  },
  "language_info": {
   "codemirror_mode": {
    "name": "ipython",
    "version": 3
   },
   "file_extension": ".py",
   "mimetype": "text/x-python",
   "name": "python",
   "nbconvert_exporter": "python",
   "pygments_lexer": "ipython3",
   "version": "3.9.13"
  }
 },
 "nbformat": 4,
 "nbformat_minor": 5
}
