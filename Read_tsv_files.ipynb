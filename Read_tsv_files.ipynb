{
 "cells": [
  {
   "cell_type": "code",
   "execution_count": 69,
   "id": "fba8cc2a-4972-4dd5-bbd2-d344de8af1b5",
   "metadata": {},
   "outputs": [],
   "source": [
    "import pandas as pd"
   ]
  },
  {
   "cell_type": "code",
   "execution_count": 70,
   "id": "ecf5d981-f08f-414d-8719-814128bf4eca",
   "metadata": {},
   "outputs": [],
   "source": [
    "r_filenameTSV = '/opt/dora/Dora/BIDS_ELA/BIDS_ELA/derivatives/aslprep/aslprep/sub-C001/perf/sub-C001_acq-L1500P1500conn_run-1_desc-confounds_regressors.tsv'\n",
    "w_filenameTSV = '/opt/dora/Dora/BIDS_ELA/BIDS_ELA/derivatives/aslprep/aslprep/sub-C001/perf/sub-C001_acq-L1500P1500conn_run-1_desc-confounds_regressors_conn.tsv'"
   ]
  },
  {
   "cell_type": "code",
   "execution_count": 71,
   "id": "9bf42b32-c2e2-4819-8a04-5e8c08243f79",
   "metadata": {},
   "outputs": [],
   "source": [
    "tsv_read = pd.read_csv(r_filenameTSV, sep='\\t')"
   ]
  },
  {
   "cell_type": "code",
   "execution_count": 87,
   "id": "ea66cbf2-b0ba-4360-976d-e40ad0512100",
   "metadata": {},
   "outputs": [
    {
     "name": "stdout",
     "output_type": "stream",
     "text": [
      "<class 'method'>\n"
     ]
    }
   ],
   "source": [
    "print(type(tsv_read.head))"
   ]
  },
  {
   "cell_type": "code",
   "execution_count": 97,
   "id": "354cae6b-7170-4375-9c38-04e8324a2117",
   "metadata": {},
   "outputs": [],
   "source": [
    "with open(w_filenameTSV,'w') as write_tsv:\n",
    "    write_tsv.write(tsv_read.to_csv(sep='\\t', index=None, header=True))"
   ]
  },
  {
   "cell_type": "code",
   "execution_count": 98,
   "id": "076933a3-a637-4f8b-91e2-86adc4864991",
   "metadata": {},
   "outputs": [
    {
     "name": "stdout",
     "output_type": "stream",
     "text": [
      "     trans_x   trans_y       trans_z  rot_x  rot_y     rot_z\n",
      "0   0.000000  0.000000  0.000000e+00    0.0   -0.0  0.000000\n",
      "1  -0.216581  0.993558  0.000000e+00    0.0   -0.0  0.001025\n",
      "2  -0.169674  0.932638 -1.464950e-08    0.0   -0.0  0.001065\n",
      "3  -0.214301  0.991840  0.000000e+00    0.0   -0.0  0.000888\n",
      "4  -0.168847  0.916400 -1.115170e-08    0.0   -0.0  0.000948\n",
      "..       ...       ...           ...    ...    ...       ...\n",
      "76  0.006740  0.650380 -2.681140e-08    0.0   -0.0  0.005824\n",
      "77 -0.003670  0.826811 -7.302480e-09    0.0   -0.0  0.005846\n",
      "78  0.003330  0.683136 -3.748820e-09    0.0   -0.0  0.005914\n",
      "79 -0.007156  0.869111  9.623560e-09    0.0   -0.0  0.005863\n",
      "80  0.005555  0.712886 -2.649220e-09    0.0   -0.0  0.005825\n",
      "\n",
      "[81 rows x 6 columns]\n"
     ]
    }
   ],
   "source": [
    "A = tsv_read.drop(['std_dvars','framewise_displacement','dvars'],axis=1)\n",
    "print(A)"
   ]
  },
  {
   "cell_type": "code",
   "execution_count": 99,
   "id": "9690ae91-1977-400c-a99a-4c6ca9cd2389",
   "metadata": {},
   "outputs": [
    {
     "name": "stdout",
     "output_type": "stream",
     "text": [
      "     trans_x   trans_y       trans_z  rot_x  rot_y     rot_z\n",
      "1  -0.216581  0.993558  0.000000e+00    0.0   -0.0  0.001025\n",
      "2  -0.169674  0.932638 -1.464950e-08    0.0   -0.0  0.001065\n",
      "3  -0.214301  0.991840  0.000000e+00    0.0   -0.0  0.000888\n",
      "4  -0.168847  0.916400 -1.115170e-08    0.0   -0.0  0.000948\n",
      "5  -0.196385  1.001340 -1.115170e-08    0.0   -0.0  0.000777\n",
      "..       ...       ...           ...    ...    ...       ...\n",
      "76  0.006740  0.650380 -2.681140e-08    0.0   -0.0  0.005824\n",
      "77 -0.003670  0.826811 -7.302480e-09    0.0   -0.0  0.005846\n",
      "78  0.003330  0.683136 -3.748820e-09    0.0   -0.0  0.005914\n",
      "79 -0.007156  0.869111  9.623560e-09    0.0   -0.0  0.005863\n",
      "80  0.005555  0.712886 -2.649220e-09    0.0   -0.0  0.005825\n",
      "\n",
      "[80 rows x 6 columns]\n"
     ]
    }
   ],
   "source": [
    "impair_index = []\n",
    "B = A.drop([0])\n",
    "for x in B:\n",
    "    if x % 2 == 0:\n",
    "        B.drop([x])\n",
    "print(B)"
   ]
  },
  {
   "cell_type": "code",
   "execution_count": null,
   "id": "f67315c9-1c5a-4ef6-848c-326fe3bfb725",
   "metadata": {},
   "outputs": [],
   "source": []
  }
 ],
 "metadata": {
  "kernelspec": {
   "display_name": "Python 3 (ipykernel)",
   "language": "python",
   "name": "python3"
  },
  "language_info": {
   "codemirror_mode": {
    "name": "ipython",
    "version": 3
   },
   "file_extension": ".py",
   "mimetype": "text/x-python",
   "name": "python",
   "nbconvert_exporter": "python",
   "pygments_lexer": "ipython3",
   "version": "3.9.7"
  }
 },
 "nbformat": 4,
 "nbformat_minor": 5
}
